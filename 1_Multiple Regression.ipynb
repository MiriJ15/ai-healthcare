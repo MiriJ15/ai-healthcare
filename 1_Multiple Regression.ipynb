{
 "cells": [
  {
   "cell_type": "markdown",
   "id": "7a2aa21f-581c-4282-a4d1-b90294999133",
   "metadata": {},
   "source": [
    "The goal of this notebook is to explore multiple regression and feature engineering Sklearn functions.\n",
    "\n",
    "In this notebook you will use data on house sales in California to predict prices using multiple regression. \n",
    "\n",
    "You will:\n",
    "* Train multiple regression models \n",
    "* Inspect coefficients and interpret their meanings\n",
    "* Evaluate multiple models via RMSE, MAE, and R2\n",
    "* Use Cross validation to regularize weights to shrink coefficients of features not useful for predicting housing prices"
   ]
  },
  {
   "cell_type": "code",
   "execution_count": 60,
   "id": "b7209395-72cb-41f5-9ce8-361fd7b5937e",
   "metadata": {},
   "outputs": [],
   "source": [
    "import pandas as pd\n",
    "import numpy as np\n",
    "import matplotlib.pyplot as plt\n",
    "from sklearn.model_selection import train_test_split"
   ]
  },
  {
   "cell_type": "markdown",
   "id": "cea23958-290d-4d98-a92d-a51b3c0e5d23",
   "metadata": {},
   "source": [
    "# Import in house data"
   ]
  },
  {
   "cell_type": "code",
   "execution_count": 110,
   "id": "ced8fd4e-6576-4428-90b8-121d4db5f11c",
   "metadata": {},
   "outputs": [],
   "source": [
    "df = pd.read_csv('../datasets/housing_paml_hw2.csv')"
   ]
  },
  {
   "cell_type": "code",
   "execution_count": 111,
   "id": "f108e224-4a9f-489d-9371-505ea7b03435",
   "metadata": {},
   "outputs": [],
   "source": [
    "df.dropna(inplace=True)"
   ]
  },
  {
   "cell_type": "code",
   "execution_count": 113,
   "id": "220de51b",
   "metadata": {},
   "outputs": [
    {
     "name": "stdout",
     "output_type": "stream",
     "text": [
      "Index(['longitude', 'latitude', 'housing_median_age', 'total_rooms',\n",
      "       'total_bedrooms', 'population', 'households', 'median_income',\n",
      "       'median_house_value', 'city', 'postcode', 'county', 'road',\n",
      "       'rooms_per_household', 'number_bedrooms', 'number_bathrooms',\n",
      "       'ocean_proximity_<1H OCEAN', 'ocean_proximity_INLAND',\n",
      "       'ocean_proximity_NEAR BAY', 'ocean_proximity_NEAR OCEAN'],\n",
      "      dtype='object')\n",
      "      ocean_proximity\n",
      "0            NEAR BAY\n",
      "1            NEAR BAY\n",
      "2            NEAR BAY\n",
      "3            NEAR BAY\n",
      "6            NEAR BAY\n",
      "...               ...\n",
      "20503       <1H OCEAN\n",
      "20504       <1H OCEAN\n",
      "20505       <1H OCEAN\n",
      "20506       <1H OCEAN\n",
      "20523          INLAND\n",
      "\n",
      "[10684 rows x 1 columns]\n"
     ]
    }
   ],
   "source": [
    "features=['ocean_proximity']\n",
    "encoded_feature=df[features]\n",
    "encoded_feature_df = pd.DataFrame({'ocean_proximity': df[features[0]]})\n",
    "for feat in features:\n",
    "    df = pd.get_dummies(df, columns=[feat])\n",
    "print(df.columns)\n",
    "print(encoded_feature_df)\n",
    "df = df.join(encoded_feature_df)\n",
    "print(df.head())\n",
    "#df = df.append(encoded_feature)"
   ]
  },
  {
   "cell_type": "code",
   "execution_count": 114,
   "id": "a7b8e01a-99a2-44e2-bd91-c84eb2d81316",
   "metadata": {},
   "outputs": [
    {
     "data": {
      "text/html": [
       "<div>\n",
       "<style scoped>\n",
       "    .dataframe tbody tr th:only-of-type {\n",
       "        vertical-align: middle;\n",
       "    }\n",
       "\n",
       "    .dataframe tbody tr th {\n",
       "        vertical-align: top;\n",
       "    }\n",
       "\n",
       "    .dataframe thead th {\n",
       "        text-align: right;\n",
       "    }\n",
       "</style>\n",
       "<table border=\"1\" class=\"dataframe\">\n",
       "  <thead>\n",
       "    <tr style=\"text-align: right;\">\n",
       "      <th></th>\n",
       "      <th>longitude</th>\n",
       "      <th>latitude</th>\n",
       "      <th>housing_median_age</th>\n",
       "      <th>total_rooms</th>\n",
       "      <th>total_bedrooms</th>\n",
       "      <th>population</th>\n",
       "      <th>households</th>\n",
       "      <th>median_income</th>\n",
       "      <th>median_house_value</th>\n",
       "      <th>postcode</th>\n",
       "      <th>rooms_per_household</th>\n",
       "      <th>number_bedrooms</th>\n",
       "      <th>number_bathrooms</th>\n",
       "      <th>ocean_proximity_&lt;1H OCEAN</th>\n",
       "      <th>ocean_proximity_INLAND</th>\n",
       "      <th>ocean_proximity_NEAR BAY</th>\n",
       "      <th>ocean_proximity_NEAR OCEAN</th>\n",
       "    </tr>\n",
       "  </thead>\n",
       "  <tbody>\n",
       "    <tr>\n",
       "      <th>count</th>\n",
       "      <td>10684.000000</td>\n",
       "      <td>10684.000000</td>\n",
       "      <td>10684.000000</td>\n",
       "      <td>10684.000000</td>\n",
       "      <td>10684.000000</td>\n",
       "      <td>10684.000000</td>\n",
       "      <td>10684.000000</td>\n",
       "      <td>10684.000000</td>\n",
       "      <td>10684.000000</td>\n",
       "      <td>10684.000000</td>\n",
       "      <td>10684.000000</td>\n",
       "      <td>10684.000000</td>\n",
       "      <td>10684.000000</td>\n",
       "      <td>10684.000000</td>\n",
       "      <td>10684.000000</td>\n",
       "      <td>10684.000000</td>\n",
       "      <td>10684.000000</td>\n",
       "    </tr>\n",
       "    <tr>\n",
       "      <th>mean</th>\n",
       "      <td>-119.288341</td>\n",
       "      <td>35.201291</td>\n",
       "      <td>30.001872</td>\n",
       "      <td>2592.112411</td>\n",
       "      <td>548.318514</td>\n",
       "      <td>1482.061868</td>\n",
       "      <td>521.131692</td>\n",
       "      <td>3.775697</td>\n",
       "      <td>205899.883939</td>\n",
       "      <td>92572.881411</td>\n",
       "      <td>5.054429</td>\n",
       "      <td>1.757207</td>\n",
       "      <td>3.796799</td>\n",
       "      <td>0.536597</td>\n",
       "      <td>0.234463</td>\n",
       "      <td>0.083396</td>\n",
       "      <td>0.145545</td>\n",
       "    </tr>\n",
       "    <tr>\n",
       "      <th>std</th>\n",
       "      <td>1.872055</td>\n",
       "      <td>1.951984</td>\n",
       "      <td>12.558108</td>\n",
       "      <td>2181.783511</td>\n",
       "      <td>435.523778</td>\n",
       "      <td>1166.079336</td>\n",
       "      <td>418.359918</td>\n",
       "      <td>1.797194</td>\n",
       "      <td>107448.502189</td>\n",
       "      <td>3256.256050</td>\n",
       "      <td>1.268650</td>\n",
       "      <td>0.435936</td>\n",
       "      <td>1.366748</td>\n",
       "      <td>0.498682</td>\n",
       "      <td>0.423682</td>\n",
       "      <td>0.276492</td>\n",
       "      <td>0.352666</td>\n",
       "    </tr>\n",
       "    <tr>\n",
       "      <th>min</th>\n",
       "      <td>-124.190000</td>\n",
       "      <td>32.540000</td>\n",
       "      <td>1.000000</td>\n",
       "      <td>12.000000</td>\n",
       "      <td>3.000000</td>\n",
       "      <td>3.000000</td>\n",
       "      <td>4.000000</td>\n",
       "      <td>0.499900</td>\n",
       "      <td>17500.000000</td>\n",
       "      <td>1387.000000</td>\n",
       "      <td>0.125800</td>\n",
       "      <td>1.000000</td>\n",
       "      <td>-0.000000</td>\n",
       "      <td>0.000000</td>\n",
       "      <td>0.000000</td>\n",
       "      <td>0.000000</td>\n",
       "      <td>0.000000</td>\n",
       "    </tr>\n",
       "    <tr>\n",
       "      <th>25%</th>\n",
       "      <td>-121.430000</td>\n",
       "      <td>33.870000</td>\n",
       "      <td>20.000000</td>\n",
       "      <td>1437.000000</td>\n",
       "      <td>299.000000</td>\n",
       "      <td>812.750000</td>\n",
       "      <td>291.000000</td>\n",
       "      <td>2.503350</td>\n",
       "      <td>127200.000000</td>\n",
       "      <td>91214.000000</td>\n",
       "      <td>4.216465</td>\n",
       "      <td>2.000000</td>\n",
       "      <td>3.000000</td>\n",
       "      <td>0.000000</td>\n",
       "      <td>0.000000</td>\n",
       "      <td>0.000000</td>\n",
       "      <td>0.000000</td>\n",
       "    </tr>\n",
       "    <tr>\n",
       "      <th>50%</th>\n",
       "      <td>-118.370000</td>\n",
       "      <td>34.150000</td>\n",
       "      <td>31.000000</td>\n",
       "      <td>2082.500000</td>\n",
       "      <td>442.000000</td>\n",
       "      <td>1201.000000</td>\n",
       "      <td>423.000000</td>\n",
       "      <td>3.515850</td>\n",
       "      <td>182700.000000</td>\n",
       "      <td>92503.000000</td>\n",
       "      <td>4.981449</td>\n",
       "      <td>2.000000</td>\n",
       "      <td>4.000000</td>\n",
       "      <td>1.000000</td>\n",
       "      <td>0.000000</td>\n",
       "      <td>0.000000</td>\n",
       "      <td>0.000000</td>\n",
       "    </tr>\n",
       "    <tr>\n",
       "      <th>75%</th>\n",
       "      <td>-117.970000</td>\n",
       "      <td>37.340000</td>\n",
       "      <td>39.000000</td>\n",
       "      <td>3071.000000</td>\n",
       "      <td>658.000000</td>\n",
       "      <td>1783.250000</td>\n",
       "      <td>619.000000</td>\n",
       "      <td>4.693325</td>\n",
       "      <td>258950.000000</td>\n",
       "      <td>94536.000000</td>\n",
       "      <td>5.783019</td>\n",
       "      <td>2.000000</td>\n",
       "      <td>5.000000</td>\n",
       "      <td>1.000000</td>\n",
       "      <td>0.000000</td>\n",
       "      <td>0.000000</td>\n",
       "      <td>0.000000</td>\n",
       "    </tr>\n",
       "    <tr>\n",
       "      <th>max</th>\n",
       "      <td>-115.510000</td>\n",
       "      <td>40.880000</td>\n",
       "      <td>52.000000</td>\n",
       "      <td>39320.000000</td>\n",
       "      <td>6445.000000</td>\n",
       "      <td>28566.000000</td>\n",
       "      <td>6082.000000</td>\n",
       "      <td>15.000100</td>\n",
       "      <td>500001.000000</td>\n",
       "      <td>99262.000000</td>\n",
       "      <td>24.500000</td>\n",
       "      <td>7.000000</td>\n",
       "      <td>18.000000</td>\n",
       "      <td>1.000000</td>\n",
       "      <td>1.000000</td>\n",
       "      <td>1.000000</td>\n",
       "      <td>1.000000</td>\n",
       "    </tr>\n",
       "  </tbody>\n",
       "</table>\n",
       "</div>"
      ],
      "text/plain": [
       "          longitude      latitude  housing_median_age   total_rooms  \\\n",
       "count  10684.000000  10684.000000        10684.000000  10684.000000   \n",
       "mean    -119.288341     35.201291           30.001872   2592.112411   \n",
       "std        1.872055      1.951984           12.558108   2181.783511   \n",
       "min     -124.190000     32.540000            1.000000     12.000000   \n",
       "25%     -121.430000     33.870000           20.000000   1437.000000   \n",
       "50%     -118.370000     34.150000           31.000000   2082.500000   \n",
       "75%     -117.970000     37.340000           39.000000   3071.000000   \n",
       "max     -115.510000     40.880000           52.000000  39320.000000   \n",
       "\n",
       "       total_bedrooms    population    households  median_income  \\\n",
       "count    10684.000000  10684.000000  10684.000000   10684.000000   \n",
       "mean       548.318514   1482.061868    521.131692       3.775697   \n",
       "std        435.523778   1166.079336    418.359918       1.797194   \n",
       "min          3.000000      3.000000      4.000000       0.499900   \n",
       "25%        299.000000    812.750000    291.000000       2.503350   \n",
       "50%        442.000000   1201.000000    423.000000       3.515850   \n",
       "75%        658.000000   1783.250000    619.000000       4.693325   \n",
       "max       6445.000000  28566.000000   6082.000000      15.000100   \n",
       "\n",
       "       median_house_value      postcode  rooms_per_household  number_bedrooms  \\\n",
       "count        10684.000000  10684.000000         10684.000000     10684.000000   \n",
       "mean        205899.883939  92572.881411             5.054429         1.757207   \n",
       "std         107448.502189   3256.256050             1.268650         0.435936   \n",
       "min          17500.000000   1387.000000             0.125800         1.000000   \n",
       "25%         127200.000000  91214.000000             4.216465         2.000000   \n",
       "50%         182700.000000  92503.000000             4.981449         2.000000   \n",
       "75%         258950.000000  94536.000000             5.783019         2.000000   \n",
       "max         500001.000000  99262.000000            24.500000         7.000000   \n",
       "\n",
       "       number_bathrooms  ocean_proximity_<1H OCEAN  ocean_proximity_INLAND  \\\n",
       "count      10684.000000               10684.000000            10684.000000   \n",
       "mean           3.796799                   0.536597                0.234463   \n",
       "std            1.366748                   0.498682                0.423682   \n",
       "min           -0.000000                   0.000000                0.000000   \n",
       "25%            3.000000                   0.000000                0.000000   \n",
       "50%            4.000000                   1.000000                0.000000   \n",
       "75%            5.000000                   1.000000                0.000000   \n",
       "max           18.000000                   1.000000                1.000000   \n",
       "\n",
       "       ocean_proximity_NEAR BAY  ocean_proximity_NEAR OCEAN  \n",
       "count              10684.000000                10684.000000  \n",
       "mean                   0.083396                    0.145545  \n",
       "std                    0.276492                    0.352666  \n",
       "min                    0.000000                    0.000000  \n",
       "25%                    0.000000                    0.000000  \n",
       "50%                    0.000000                    0.000000  \n",
       "75%                    0.000000                    0.000000  \n",
       "max                    1.000000                    1.000000  "
      ]
     },
     "execution_count": 114,
     "metadata": {},
     "output_type": "execute_result"
    }
   ],
   "source": [
    "df.describe()"
   ]
  },
  {
   "cell_type": "markdown",
   "id": "172fda4b-c70d-49e6-b81b-cfa9bf064c74",
   "metadata": {},
   "source": [
    "# Linear Regression from scratch"
   ]
  },
  {
   "cell_type": "code",
   "execution_count": 65,
   "id": "17702a3f",
   "metadata": {},
   "outputs": [],
   "source": [
    "# Hypothetical function h(x)  \n",
    "def predict(X, W): \n",
    "    #W=W.reshape(-1,1)\n",
    "    num_examples, _ = X.shape\n",
    "    X_transform = np.append(np.ones((num_examples, 1)), X, axis=1)\n",
    "    prediction = X_transform.dot(W) \n",
    "    return prediction"
   ]
  },
  {
   "cell_type": "code",
   "execution_count": 66,
   "id": "b59fcfa9-b4de-42b1-bc0f-49a68a935bc5",
   "metadata": {},
   "outputs": [],
   "source": [
    "def standardize(X_transform, num_features):\n",
    "    means = np.mean(X_transform, axis=0) #columnwise mean and std\n",
    "    stds = np.std(X_transform, axis=0)+1e-7\n",
    "    X_normalized = (X_transform-means)/(stds)\n",
    "    return X_transform"
   ]
  },
  {
   "cell_type": "code",
   "execution_count": 67,
   "id": "01185113-f621-4868-b664-c53d86a5b84d",
   "metadata": {},
   "outputs": [],
   "source": [
    "# Update weights in gradient descent \n",
    "from sklearn.metrics import mean_squared_error\n",
    "\n",
    "def update_weights(X, Y, W, lr): \n",
    "    # m: no_of_training_examples, n:no_of_features \n",
    "    num_examples, _ = X.shape\n",
    "    X_transform = np.append(np.ones((num_examples, 1)), X, axis=1)\n",
    "    \n",
    "    # Make prediction using fitted line\n",
    "    Y_pred = predict(X, W) \n",
    "      \n",
    "    # calculate gradients using RMSE: RMSE = sqrt((1/n)sum_{num_examples} error^2) \n",
    "    # derivative wrt w\n",
    "    dW = - (2 * (X_transform.T).dot(Y - Y_pred) ) / num_examples\n",
    "\n",
    "    cost = mean_squared_error(Y, Y_pred, squared=False)\n",
    "      \n",
    "    # update weights \n",
    "    W = W - lr * dW \n",
    "    return W, cost"
   ]
  },
  {
   "cell_type": "code",
   "execution_count": 68,
   "id": "41011c35-988f-4816-8b36-9548f1e1b3a1",
   "metadata": {},
   "outputs": [],
   "source": [
    "def fit(X, Y, lr, num_iterations=100): \n",
    "    #num_examples, num_features\n",
    "    _, num_features = X.shape\n",
    "    \n",
    "    # weight initialization \n",
    "    W = np.zeros(num_features + 1) # +1 for const offset \n",
    "\n",
    "    cost_hist=[]\n",
    "    # Run Gradient Descent \n",
    "    for _ in range(num_iterations): \n",
    "        W, cost = update_weights(X, Y, W, lr) \n",
    "        cost_hist.append(cost)\n",
    "    return W, cost_hist"
   ]
  },
  {
   "cell_type": "code",
   "execution_count": 69,
   "id": "3667ba02-1e35-4199-bf4b-94d4bfe540cb",
   "metadata": {},
   "outputs": [
    {
     "data": {
      "image/png": "[encoded data removed]",
      "text/plain": [
       "<Figure size 640x480 with 1 Axes>"
      ]
     },
     "metadata": {},
     "output_type": "display_data"
    }
   ],
   "source": [
    "# Normalization or Standardization\n",
    "df['total_rooms_std'] = (df['total_rooms'] - df['total_rooms'].mean())/df['total_rooms'].std()\n",
    "df['total_rooms_std'].hist()\n",
    "\n",
    "df['total_rooms_norm']=(df['total_rooms']-df['total_rooms'].min())/(df['total_rooms'].max()-df['total_rooms'].min())\n",
    "df['population_norm']=(df['population']-df['population'].min())/(df['population'].max()-df['population'].min())\n",
    "#df['total_rooms_norm'].hist()"
   ]
  },
  {
   "cell_type": "code",
   "execution_count": 70,
   "id": "ed20ef8d-e74c-4c95-84a9-a6980d38e7a8",
   "metadata": {},
   "outputs": [],
   "source": [
    "feature_input_select = ['total_rooms_std']#,'total_rooms_norm','population_norm']\n",
    "X = df.loc[:, df.columns.isin(feature_input_select)]\n",
    "\n",
    "X = np.reshape(X, (X.shape[0],len(feature_input_select)))\n",
    "\n",
    "y = np.asarray(df['median_house_value'].values.tolist()) "
   ]
  },
  {
   "cell_type": "code",
   "execution_count": 71,
   "id": "53955024-6b8a-42bb-bb9c-34a75551d913",
   "metadata": {},
   "outputs": [
    {
     "name": "stdout",
     "output_type": "stream",
     "text": [
      "(10684, 1)\n",
      "(10684,)\n"
     ]
    }
   ],
   "source": [
    "print(X.shape)\n",
    "print(y.shape)"
   ]
  },
  {
   "cell_type": "code",
   "execution_count": 72,
   "id": "8181412f-a459-49f0-bf5d-cb960b1694f1",
   "metadata": {},
   "outputs": [],
   "source": [
    "# Splitting dataset into train and test set \n",
    "X_train, X_test, y_train, y_test = train_test_split(X, y, test_size=0.05, random_state=0)"
   ]
  },
  {
   "cell_type": "code",
   "execution_count": 73,
   "id": "158f980a-23fe-497f-8f70-58d21d191fb1",
   "metadata": {},
   "outputs": [
    {
     "name": "stdout",
     "output_type": "stream",
     "text": [
      "10149\n",
      "535\n",
      "10149\n",
      "535\n",
      "0.9499251216772744\n",
      "0.05007487832272557\n"
     ]
    }
   ],
   "source": [
    "print(len(X_train))\n",
    "print(len(X_test))\n",
    "print(len(y_train))\n",
    "print(len(y_test))\n",
    "print(len(X_train)/(len(X_train)+len(y_test)))\n",
    "print(len(X_test)/(len(X_train)+len(y_test)))"
   ]
  },
  {
   "cell_type": "code",
   "execution_count": 74,
   "id": "9e8c2ce5-cafe-41d4-ad3b-fd4387494b86",
   "metadata": {},
   "outputs": [],
   "source": [
    "# Linear Regression Parameters\n",
    "lr_learning_rate = 0.01\n",
    "num_iterations = 500\n",
    "X = X_train\n",
    "Y = y_train"
   ]
  },
  {
   "cell_type": "markdown",
   "id": "c27bb7f6-7b16-4602-b7ee-8ffe289d5b44",
   "metadata": {},
   "source": [
    "Train linear regression model"
   ]
  },
  {
   "cell_type": "code",
   "execution_count": 75,
   "id": "3bc20921-ea2f-4249-98b5-f1671e14ed4e",
   "metadata": {},
   "outputs": [],
   "source": [
    "lr_W, lr_cost = fit(X_train, y_train, lr_learning_rate, num_iterations=num_iterations) "
   ]
  },
  {
   "cell_type": "markdown",
   "id": "eb0b720d-89fd-49d5-be17-c12cbd7750b9",
   "metadata": {},
   "source": [
    "Inspect model weights"
   ]
  },
  {
   "cell_type": "code",
   "execution_count": 76,
   "id": "5d9a1bc1-fe82-4826-baec-7e986bd167ab",
   "metadata": {},
   "outputs": [
    {
     "name": "stdout",
     "output_type": "stream",
     "text": [
      "Weights: [205785.16681287  12972.15872824]\n"
     ]
    }
   ],
   "source": [
    "print('Weights: {}'.format(lr_W))"
   ]
  },
  {
   "cell_type": "code",
   "execution_count": 77,
   "id": "7a2b1a82-7a9c-47e7-b939-d62790e2bb27",
   "metadata": {},
   "outputs": [
    {
     "data": {
      "image/png": "[encoded data removed]",
      "text/plain": [
       "<Figure size 640x480 with 1 Axes>"
      ]
     },
     "metadata": {},
     "output_type": "display_data"
    }
   ],
   "source": [
    "plt.scatter(np.arange(0,len(lr_cost),1), lr_cost, color = 'blue') \n",
    "plt.title('Cost vs Training Iteration') \n",
    "plt.xlabel('Iteration') \n",
    "plt.ylabel('Cost') \n",
    "plt.show() "
   ]
  },
  {
   "cell_type": "code",
   "execution_count": 78,
   "id": "079c4e85-4e3c-4969-80bd-2d3f1b6c7cf1",
   "metadata": {},
   "outputs": [
    {
     "name": "stdout",
     "output_type": "stream",
     "text": [
      "Predicted values  [212366.35 195456.87 203435.96 198661.59 204268.35 199285.88 213210.64\n",
      " 205986.65 202288.45 202520.33 195409.31 200035.04 207027.14 211284.24\n",
      " 199178.86 200867.43 206807.15 205677.48 200754.46 198049.19 210761.02\n",
      " 199987.47 194707.72 195213.1  216974.24 200118.28 190694.4  199095.62\n",
      " 197531.91 200736.63 203869.99 213115.51 262482.38 217705.56 208477.89\n",
      " 201681.99 238604.58 204708.33 199184.81 200683.12 200290.7  204036.47\n",
      " 196152.52 204779.68 196764.92 239734.26 200724.74 198423.76 191883.53\n",
      " 206402.85 191116.54 195807.67 218407.15 203293.26 204654.82 207484.96\n",
      " 199458.31 194844.47 213157.13 200171.79 237564.09 219602.23 214691.11\n",
      " 200760.41 202068.46 191550.57 195320.12 200558.26 199178.86 202722.48\n",
      " 214263.02 213496.03 211575.58 215678.09 196164.41 212312.84 198917.25\n",
      " 193375.89 203792.7  197585.42 207788.19 215731.6  197674.61 206622.84\n",
      " 206236.37 215220.27 202246.83 209613.51 202234.94 196330.89 199493.98\n",
      " 210118.89 202835.45 206926.07 192935.91 202300.34 197870.82 227694.28\n",
      " 203721.35 200332.32 202990.03 196223.87 201045.8  201735.5  202068.46\n",
      " 198917.25 208638.42 205909.36 213918.17 198364.31 202894.9  216962.35\n",
      " 203875.94 203858.1  237040.87 200272.86 206456.36 200445.29 207479.01\n",
      " 203007.87 198203.77 225999.77 198251.34 214804.08 225714.38 204672.66\n",
      " 203578.66 202252.77 214524.63 200861.49 202211.15 206058.   199327.5\n",
      " 203685.68 199285.88 195022.84 199012.38 233503.2  203192.19 208650.31\n",
      " 203192.19 206283.93 208614.64 241482.28 206444.47 194999.06 201253.9\n",
      " 197817.3  200700.95 199797.21 194600.7  197591.37 222812.89 206771.48\n",
      " 200784.19 205225.61 201146.88 199749.65 205071.02 196669.79 192174.87\n",
      " 212027.45 195771.99 197525.97 201533.35 204726.17 199036.17 244758.35\n",
      " 199464.25 256851.83 209815.66 204488.34 201670.1  204999.67 196485.47\n",
      " 198031.35 201182.55 193310.49 220196.8  218597.41 209803.77 198536.73\n",
      " 206123.4  209756.2  200356.1  201473.89 223966.35 201063.64 199493.98\n",
      " 211528.01 198917.25 211736.11 205790.44 212407.97 198423.76 214054.92\n",
      " 196485.47 204173.22 194113.15 205719.1  209690.8  220749.74 202199.26\n",
      " 194481.79 233562.66 203031.65 201331.19 211753.95 199565.33 201111.2\n",
      " 202252.77 214869.48 205071.02 228603.97 209197.31 217776.91 205380.19\n",
      " 197163.28 205772.61 201283.63 214251.13 199755.59 197097.88 221415.66\n",
      " 209839.44 200409.62 202020.89 207591.98 210053.49 212467.43 207068.76\n",
      " 203275.43 204458.61 201265.79 194559.08 204244.57 203281.37 194392.6\n",
      " 199880.45 203971.07 200011.26 222129.14 192359.18 233610.22 203709.46\n",
      " 218644.98 193358.05 217842.31 202752.21 208162.77 201652.26 200748.52\n",
      " 201396.6  207699.   198822.12 203388.39 195070.41 201230.12 198982.66\n",
      " 206456.36 207609.82 199262.1  206569.33 207146.06 207930.88 218561.74\n",
      " 221070.81 217336.93 202561.95 209542.16 208263.84 199434.53 233741.03\n",
      " 203471.63 201616.59 201937.65 212639.85 199089.68 191562.46 208299.52\n",
      " 208138.98 201687.93 198750.77 202526.27 206610.95 216445.08 218329.86\n",
      " 196420.07 207764.41 196479.53 204315.92 203626.22 198792.39 195569.84\n",
      " 203007.87 209322.17 201872.25 204868.87 205992.6  202080.35 205546.67\n",
      " 202300.34 205320.74 209500.54 200504.75 199880.45 219863.84 207407.67\n",
      " 196289.27 200516.64 201551.18 213377.12 233449.69 199862.61 208674.09\n",
      " 190611.16 204458.61 198518.89 201396.6  206141.24 212544.72 204660.77\n",
      " 209613.51 199244.26 200528.53 223799.87 211046.41 208816.79 207015.25\n",
      " 217592.59 198667.53 202377.63 209690.8  229097.46 201444.16 206593.11\n",
      " 201420.38 200968.51 208388.7  201129.04 201967.38 213317.66 202924.63\n",
      " 191092.75 199059.95 216587.78 201628.48 207621.71 207699.   199024.27\n",
      " 196479.53 195599.57 197062.2  200397.72 211415.05 208020.07 209821.61\n",
      " 198489.16 195135.81 191021.41 196241.7  220369.22 206147.18 217438.01\n",
      " 215963.48 193245.09 211682.6  196812.49 197127.61 208031.96 197799.47\n",
      " 214399.77 197401.11 205296.95 204428.89 204232.68 198923.2  199196.7\n",
      " 200385.83 200379.89 211456.66 194356.93 214922.99 204494.29 210214.02\n",
      " 211914.48 205540.73 206658.51 199939.91 216563.99 208133.04 202770.05\n",
      " 203489.47 205493.16 200825.81 200671.22 197115.72 211777.73 202383.58\n",
      " 206307.72 199440.47 198572.4  195653.08 217729.34 205094.8  206926.07\n",
      " 207841.7  204541.85 201123.1  223627.45 195867.13 200385.83 197091.93\n",
      " 217943.39 197650.83 206688.24 212842.01 203132.73 206795.26 214976.5\n",
      " 212901.46 191413.82 201420.38 204678.6  208174.66 200421.51 224049.59\n",
      " 197466.51 211468.56 201866.3  194612.59 190741.96 197841.09 206260.15\n",
      " 201580.91 205124.53 277364.39 210612.38 222355.07 206319.61 251500.73\n",
      " 192026.22 242368.19 200647.44 201515.51 210445.9  200320.43 198316.74\n",
      " 206385.01 201467.94 199660.46 196396.29 213507.92 196604.39 200029.09\n",
      " 195611.46 202603.57 208376.81 199963.69 199143.19 206676.35 207758.46\n",
      " 195819.56 211230.73 190837.09 202734.37 201384.7  199113.46 203346.77\n",
      " 201384.7  221516.73 199363.18 194041.81 200076.66 192430.53 202740.32\n",
      " 210178.35 197460.56 223906.89 196319.   235613.91 193286.71 198905.36\n",
      " 210107.   197823.25 198964.82 217586.65 207312.53 195082.3  201117.15\n",
      " 218395.26 195332.02 204524.02 198762.67 218187.16 203192.19 195468.77\n",
      " 198643.75 212182.04 208097.36 202062.51 209750.26 203394.34 195617.41\n",
      " 208685.98 204399.16 234365.32 197858.92 202740.32 202888.96 206236.37\n",
      " 216516.43 226195.97 208091.42 193417.51 200314.48 199107.51 231963.27\n",
      " 198691.32 190611.16 209845.39 202110.08 209096.24 197847.03 196051.44\n",
      " 207015.25 203655.95 199636.68 254122.77 199892.34 198352.41 207455.23\n",
      " 197228.68 207811.97 200171.79]\n",
      "Real values       [121900.  84400. 192900. 217100. 157700. 258300. 500001. 135000. 230600.\n",
      " 187400. 201900.  89800. 136000. 164800.  60600. 260300.  74900. 117500.\n",
      " 123500. 185400. 400700. 191100. 195200. 123200.  98900. 159700. 375000.\n",
      " 340400. 215400.  99200.  87800. 352600. 264500. 131000. 273000.  98100.\n",
      " 253400. 263600.  94500. 222800. 200300. 132000. 181300. 131900. 242500.\n",
      " 121500.  77900. 384700. 237500. 116300. 158300. 255400. 500001. 218800.\n",
      " 164200. 282500. 500001.  56100. 477300.  68200. 129800. 152300. 140500.\n",
      " 500001. 218800. 137500. 244400. 127200. 189300. 225000. 168400. 113900.\n",
      " 232000. 190000. 195400.  84200. 165500. 275000. 181800. 152100. 173800.\n",
      " 195100. 192000. 235700. 158900. 118500. 500001. 143500. 400000. 148000.\n",
      " 109400. 101300. 187800. 285400.  77300. 236100.  88800. 343300. 185500.\n",
      " 188300. 124600. 183000. 101500. 267700. 190600.  88300.  91200. 180700.\n",
      " 475000.  63600. 375300. 410700. 174400.  91500. 290900. 155600. 200000.\n",
      " 257300. 175000. 281100.  64100. 233500.  54400. 423400. 328900. 204300.\n",
      "  68500. 102400. 454800. 113900. 240100. 364700. 300000. 165600. 175400.\n",
      " 201400.  63900.  87300. 500001. 196400. 199100. 213100. 333600.  80900.\n",
      " 340400. 180500.  68900. 111900. 159200. 375000.  67500.  94200. 280700.\n",
      " 113300.  90000. 183900. 294100. 343000. 332500. 248600.  55500. 114300.\n",
      " 340500. 110400. 363600. 268600.  96500. 320800. 171200. 232700. 205300.\n",
      " 200300. 144900. 387500. 166900. 233700. 350900. 170800. 135500. 152900.\n",
      " 131000.  72600. 137700. 119200. 160400. 105100. 162500. 355800.  94500.\n",
      " 211100. 273700.  93100. 277800. 370900. 385000. 255200. 243800.  95600.\n",
      " 126700. 272400.  88000. 483300. 500001. 192600. 500001. 169900. 205100.\n",
      " 169800. 183800. 161500. 180900.  69400.  62900. 243800.  91600. 169400.\n",
      " 331800.  81300. 199600. 243600. 135400. 298400. 225000. 300000. 247300.\n",
      " 216900. 338400.  70200. 441100. 267400. 102300. 500001. 243800. 175100.\n",
      " 101300. 241100. 139700. 178100. 197000. 170300. 244000. 185600. 284100.\n",
      "  98800. 324000. 425900. 500001. 237500. 166100. 500001. 179500. 123400.\n",
      " 158200. 178600.  93400. 111500. 175000. 253600. 436400. 316500. 172000.\n",
      "  67500. 186200. 500001. 291500. 135600. 114500. 154100. 137000. 226900.\n",
      " 199500. 192400. 154100. 103200. 238000. 498800. 214200. 282700.  93800.\n",
      " 268500. 382500. 241900. 107700.  94800. 219100. 470500. 238900. 100000.\n",
      " 160800.  86300. 278300. 279100. 227700. 186800. 299500. 187400. 163600.\n",
      "  62500. 138200. 231300. 179500. 158800. 158000. 226700. 125000. 149100.\n",
      " 500001. 201300. 242000. 149700. 500000. 126100. 361200. 188000. 232500.\n",
      "  55000. 177200. 141700. 185200. 267100. 412700. 500001. 174200.  69900.\n",
      " 165300. 395300.  97400. 103700. 500001. 187700. 225000. 154200.  87800.\n",
      " 189800. 237400. 117600.  85200. 105700. 155200. 143000. 110000. 227400.\n",
      " 148200. 150000. 132200. 245100. 204700. 101900. 164000.  84400. 211300.\n",
      " 118300. 268800. 116400. 500001. 111700. 132000. 215100.  59700. 187500.\n",
      " 229300. 138900. 146900. 136300. 159800. 126600. 240100. 101700. 425000.\n",
      " 275900. 170500. 222400. 269100. 322700. 246400. 126800.  55400. 331400.\n",
      " 218300. 294700. 224500. 205000. 171000. 235900. 253700.  86900. 196400.\n",
      " 162900. 136600. 295600. 226500. 243200.  93200. 318400. 141800. 239200.\n",
      "  65200. 218300. 145300.  84600. 141300.  94900. 112500. 455500. 241300.\n",
      " 184600. 178900. 265700.  92000. 342900. 262500. 175000. 167600. 225200.\n",
      "  76100. 277200. 184000. 144000. 333700. 433300. 270100.  75000. 312500.\n",
      " 276100. 160700. 140600. 264700. 161600. 288200. 332800. 103600. 112500.\n",
      "  86300. 142800. 228600. 147200. 153100. 500001. 350600. 169500. 251200.\n",
      "  98200. 280100.  58500.  68300. 238200.  48300.  73700. 327500. 275900.\n",
      " 200000. 382400. 364700. 125000. 167600. 203900. 184400. 158000. 181700.\n",
      " 166000. 121900. 291700. 222000. 100000. 187500. 500001. 173600. 132200.\n",
      " 221100. 279500. 190100. 185300. 116700. 137500. 225000. 146300.  86600.\n",
      " 146900. 215400. 168800. 195300. 175900. 151700. 283300. 110400.  80200.\n",
      " 197500.  72700. 238600. 156100. 294800. 218800. 283800. 252900. 254100.\n",
      " 224700. 108000. 332700. 183300. 439800. 152500. 267600. 122300.  99100.\n",
      " 328500.  67300. 173900. 126400. 176600. 190400. 117600.  90000. 155700.\n",
      " 113600.  72900. 174500. 120500. 341200. 143800. 225000. 269100. 137500.\n",
      " 421600. 251400. 500001. 311100. 477600. 220200. 500001. 342900.  95800.\n",
      " 168600. 139300. 181300. 114200.]\n",
      "Linear Regression Coefficients W         [205785.17  12972.16]\n"
     ]
    }
   ],
   "source": [
    "y_pred = predict(X_test, lr_W) \n",
    "print(\"Predicted values \", np.round(y_pred, 2))  \n",
    "print(\"Real values      \", y_test) \n",
    "print(\"Linear Regression Coefficients W        \", np.round(lr_W, 2)) "
   ]
  },
  {
   "cell_type": "markdown",
   "id": "38609ad2-4a0a-4e85-a838-bbff1c5c003e",
   "metadata": {},
   "source": [
    "Inspect model coefficient"
   ]
  },
  {
   "cell_type": "markdown",
   "id": "82b96f7c-08ba-41ec-8eec-cd72c3a457c3",
   "metadata": {},
   "source": [
    "Visualization on test set  "
   ]
  },
  {
   "cell_type": "code",
   "execution_count": 79,
   "id": "ec7be56a-4a57-43d4-8d09-0883ec71d615",
   "metadata": {},
   "outputs": [
    {
     "data": {
      "image/png": "[encoded data removed]",
      "text/plain": [
       "<Figure size 640x480 with 1 Axes>"
      ]
     },
     "metadata": {},
     "output_type": "display_data"
    }
   ],
   "source": [
    "plt.scatter(X_test[feature_input_select[0]], y_test, color = 'blue') \n",
    "plt.scatter(X_test[feature_input_select[0]], y_pred, color = 'orange') \n",
    "plt.title('House Price vs Total Rooms') \n",
    "plt.xlabel('Total Rooms') \n",
    "plt.ylabel('House Price') \n",
    "plt.show() "
   ]
  },
  {
   "cell_type": "code",
   "execution_count": 80,
   "id": "f896071b-0c87-4cba-ace2-030cbbe30c5d",
   "metadata": {},
   "outputs": [
    {
     "data": {
      "text/plain": [
       "\"\\nplt.scatter(X_test[feature_input_select[1]], y_test, color = 'blue') \\nplt.scatter(X_test[feature_input_select[1]], y_pred, color = 'orange') \\nplt.title('House Price vs Total Rooms') \\nplt.xlabel('Total Rooms') \\nplt.ylabel('House Price') \\nplt.show() \\n\""
      ]
     },
     "execution_count": 80,
     "metadata": {},
     "output_type": "execute_result"
    }
   ],
   "source": [
    "'''\n",
    "plt.scatter(X_test[feature_input_select[1]], y_test, color = 'blue') \n",
    "plt.scatter(X_test[feature_input_select[1]], y_pred, color = 'orange') \n",
    "plt.title('House Price vs Total Rooms') \n",
    "plt.xlabel('Total Rooms') \n",
    "plt.ylabel('House Price') \n",
    "plt.show() \n",
    "'''"
   ]
  },
  {
   "cell_type": "code",
   "execution_count": 81,
   "id": "bee7a20b-3093-4632-8b4a-6f9f68d0b8b0",
   "metadata": {},
   "outputs": [
    {
     "data": {
      "text/html": [
       "<div>\n",
       "<style scoped>\n",
       "    .dataframe tbody tr th:only-of-type {\n",
       "        vertical-align: middle;\n",
       "    }\n",
       "\n",
       "    .dataframe tbody tr th {\n",
       "        vertical-align: top;\n",
       "    }\n",
       "\n",
       "    .dataframe thead th {\n",
       "        text-align: right;\n",
       "    }\n",
       "</style>\n",
       "<table border=\"1\" class=\"dataframe\">\n",
       "  <thead>\n",
       "    <tr style=\"text-align: right;\">\n",
       "      <th></th>\n",
       "      <th>total_rooms_std</th>\n",
       "    </tr>\n",
       "  </thead>\n",
       "  <tbody>\n",
       "    <tr>\n",
       "      <th>18906</th>\n",
       "      <td>0.507332</td>\n",
       "    </tr>\n",
       "    <tr>\n",
       "      <th>18710</th>\n",
       "      <td>-0.796189</td>\n",
       "    </tr>\n",
       "    <tr>\n",
       "      <th>14581</th>\n",
       "      <td>-0.181096</td>\n",
       "    </tr>\n",
       "    <tr>\n",
       "      <th>3508</th>\n",
       "      <td>-0.549144</td>\n",
       "    </tr>\n",
       "    <tr>\n",
       "      <th>13097</th>\n",
       "      <td>-0.116928</td>\n",
       "    </tr>\n",
       "    <tr>\n",
       "      <th>...</th>\n",
       "      <td>...</td>\n",
       "    </tr>\n",
       "    <tr>\n",
       "      <th>11885</th>\n",
       "      <td>-0.572977</td>\n",
       "    </tr>\n",
       "    <tr>\n",
       "      <th>6533</th>\n",
       "      <td>0.128742</td>\n",
       "    </tr>\n",
       "    <tr>\n",
       "      <th>4526</th>\n",
       "      <td>-0.659604</td>\n",
       "    </tr>\n",
       "    <tr>\n",
       "      <th>8253</th>\n",
       "      <td>0.156243</td>\n",
       "    </tr>\n",
       "    <tr>\n",
       "      <th>4789</th>\n",
       "      <td>-0.432725</td>\n",
       "    </tr>\n",
       "  </tbody>\n",
       "</table>\n",
       "<p>535 rows × 1 columns</p>\n",
       "</div>"
      ],
      "text/plain": [
       "       total_rooms_std\n",
       "18906         0.507332\n",
       "18710        -0.796189\n",
       "14581        -0.181096\n",
       "3508         -0.549144\n",
       "13097        -0.116928\n",
       "...                ...\n",
       "11885        -0.572977\n",
       "6533          0.128742\n",
       "4526         -0.659604\n",
       "8253          0.156243\n",
       "4789         -0.432725\n",
       "\n",
       "[535 rows x 1 columns]"
      ]
     },
     "execution_count": 81,
     "metadata": {},
     "output_type": "execute_result"
    }
   ],
   "source": [
    "X_test"
   ]
  },
  {
   "cell_type": "markdown",
   "id": "89925def-94b4-44ce-bd8c-4bdc7bd8f9fb",
   "metadata": {},
   "source": [
    "### Evaluate Regression Models"
   ]
  },
  {
   "cell_type": "markdown",
   "id": "74b7b839-605e-4136-9fdf-7ba07ae21f1c",
   "metadata": {},
   "source": [
    "Root mean squared error (RMSE) measures the average difference between values predicted by a model and the actual values. It provides an estimation of how well the model is able to predict the target value (accuracy).\n",
    "\n",
    "$$\n",
    "RMSE = \\sqrt{\\sum_{i}^{N}\\frac{(y_i - f(x_i))^2}{N}}\n",
    "$$\n",
    "\n",
    "Where \n",
    "* N is the number of examples\n",
    "* $y_i$ is the actual house price \n",
    "* f($x_i$) is the predicted house price using feature $x_i$"
   ]
  },
  {
   "cell_type": "code",
   "execution_count": 82,
   "id": "f2dad1fd-a1ad-43a5-99ea-7143707e0a6c",
   "metadata": {},
   "outputs": [],
   "source": [
    "def rmse(y_true, y_pred):\n",
    "    error = np.sqrt(np.sum(np.power(y_pred-y_true,2))/len(y_true))\n",
    "    return error"
   ]
  },
  {
   "cell_type": "code",
   "execution_count": 83,
   "id": "64b96044-3255-450e-9081-f5978b326b6d",
   "metadata": {},
   "outputs": [
    {
     "name": "stdout",
     "output_type": "stream",
     "text": [
      "106931.50671995475\n"
     ]
    }
   ],
   "source": [
    "rmse_error = rmse(y_test, y_pred)\n",
    "print(rmse_error)"
   ]
  },
  {
   "cell_type": "code",
   "execution_count": 84,
   "id": "de4352cd-250b-47c2-a692-d333d40a7921",
   "metadata": {},
   "outputs": [
    {
     "name": "stdout",
     "output_type": "stream",
     "text": [
      "106931.50671995475\n"
     ]
    }
   ],
   "source": [
    "from sklearn.metrics import mean_squared_error\n",
    "print(mean_squared_error(y_test, y_pred, squared=False)) # squared=False for RMSE"
   ]
  },
  {
   "cell_type": "markdown",
   "id": "0ff7e2ca-ad88-423a-8154-9d14371f4c6a",
   "metadata": {},
   "source": [
    "Mean Absolute Error (MAE) is defined as the average variance between the significant values in the dataset and the projected values in the same dataset.\n",
    "\n",
    "$$\n",
    "MAE = \\sum_{i}^{N} \\frac{|y_i - f(x_i)|}{N}\n",
    "$$\n",
    "\n",
    "Where \n",
    "* N is the number of examples\n",
    "* $y_i$ is the actual house price \n",
    "* f($x_i$) is the predicted house price using feature $x_i$"
   ]
  },
  {
   "cell_type": "code",
   "execution_count": 85,
   "id": "90a4a06c-4cd3-4574-ac35-2c320c95e60e",
   "metadata": {},
   "outputs": [],
   "source": [
    "def mae(y_true, y_pred):\n",
    "    error = (np.sum(np.abs(y_pred-y_true))) / len(y_true)\n",
    "    return error"
   ]
  },
  {
   "cell_type": "code",
   "execution_count": 86,
   "id": "2081e6bc-1552-41b8-a602-b19fb47d84d1",
   "metadata": {},
   "outputs": [
    {
     "name": "stdout",
     "output_type": "stream",
     "text": [
      "70686.39548349378\n"
     ]
    }
   ],
   "source": [
    "mae_error = mae(y_test[:3], y_pred[:3])\n",
    "print(mae_error)"
   ]
  },
  {
   "cell_type": "code",
   "execution_count": 87,
   "id": "345e10c6-14d9-4ed5-8e3f-a7769ec743ca",
   "metadata": {},
   "outputs": [
    {
     "name": "stdout",
     "output_type": "stream",
     "text": [
      "82693.32252831405\n"
     ]
    }
   ],
   "source": [
    "mae_error = mae(y_test, y_pred)\n",
    "print(mae_error)"
   ]
  },
  {
   "cell_type": "code",
   "execution_count": 88,
   "id": "a441dbbd-f4a8-44fe-b5c2-81ed7d273259",
   "metadata": {},
   "outputs": [
    {
     "name": "stdout",
     "output_type": "stream",
     "text": [
      "82693.32252831405\n"
     ]
    }
   ],
   "source": [
    "from sklearn.metrics import mean_absolute_error\n",
    "print(mean_absolute_error(y_test, y_pred))"
   ]
  },
  {
   "cell_type": "markdown",
   "id": "eeb34b90-43fa-4be8-8976-08bd77ce048c",
   "metadata": {},
   "source": [
    "Coefficient of determination\n",
    "\n",
    "The coefficient of Determination ($R^2$)is a measure that provides information about the goodness of fit of a model. In the context of regression it is a statistical measure of how well the regression line approximates the actual data. It is therefore important when a statistical model is used either to predict future outcomes or in the testing of hypotheses.\n",
    "$$\n",
    "R^2 = 1 - \\frac{RSS}{TSS}\n",
    "$$\n",
    "\n",
    "Total Sum of Squares (TSS) is the sum of all squared differences between the mean of a sample and the individual values in that sample. It is represented mathematically with the formula:\n",
    "\n",
    "$$\n",
    "TSS = \\sum_{i=1}^{N} (y_i - \\bar{y})^2\n",
    "$$\n",
    "\n",
    "Where \n",
    "* N is the number of examples\n",
    "* $y_i$ is input sample\n",
    "* $\\bar{y}$ is mean of input y\n",
    "\n",
    "The residual sum of squares (RSS) measures the level of variance in the error term, or residuals, of a regression model. The smaller the residual sum of squares, the better your model fits your data; the greater the residual sum of squares, the poorer your model fits your data with the formula:\n",
    "$$\n",
    "RSS = \\sum_{i=1}^{N} (y_i - f(x_i))^2 \n",
    "$$\n",
    "\n",
    "Where \n",
    "* N is the number of examples\n",
    "* $y_i$ is the actual house price\n",
    "* f($x_i$) is the predicted house price using feature $x_i$"
   ]
  },
  {
   "cell_type": "code",
   "execution_count": 89,
   "id": "d1f556f3-faf3-4a30-a43a-cdcc23f2e324",
   "metadata": {},
   "outputs": [],
   "source": [
    "def r2_score(y_test, y_pred):\n",
    "    tss = np.sum(np.power(y_test - np.mean(y_pred),2))\n",
    "    rss = np.sum(np.power(y_test - y_pred,2))\n",
    "    r2 = 1 - (rss/tss)\n",
    "    return r2"
   ]
  },
  {
   "cell_type": "code",
   "execution_count": 90,
   "id": "db57cfe3-255b-47b9-9228-c6998984b5db",
   "metadata": {},
   "outputs": [
    {
     "name": "stdout",
     "output_type": "stream",
     "text": [
      "0.020608283072785727\n"
     ]
    }
   ],
   "source": [
    "r2_error = r2_score(y_test[:3], y_pred[:3])\n",
    "print(r2_error)"
   ]
  },
  {
   "cell_type": "markdown",
   "id": "871342c8-de77-4bea-b3f7-f23b202efb08",
   "metadata": {},
   "source": [
    "An R-Squared value shows how well the model predicts the outcome of the dependent variable. R-Squared values range from 0 to 1. An R-Squared value of 0 means that the model explains or predicts 0% of the relationship between the dependent and independent variables."
   ]
  },
  {
   "cell_type": "code",
   "execution_count": 91,
   "id": "cc66e264-c89d-4e27-9917-0169f021b11c",
   "metadata": {},
   "outputs": [
    {
     "name": "stdout",
     "output_type": "stream",
     "text": [
      "0.027379585590405098\n"
     ]
    }
   ],
   "source": [
    "r2_error = r2_score(y_test, y_pred)\n",
    "print(r2_error)"
   ]
  },
  {
   "cell_type": "code",
   "execution_count": 92,
   "id": "b2d9655c-e330-4947-94ab-54ffdd720475",
   "metadata": {},
   "outputs": [
    {
     "name": "stdout",
     "output_type": "stream",
     "text": [
      "0.027003805852680918\n"
     ]
    }
   ],
   "source": [
    "from sklearn.metrics import r2_score\n",
    "print(r2_score(y_test, y_pred))"
   ]
  },
  {
   "cell_type": "markdown",
   "id": "40434364-5789-4d05-8cd3-6b18ce6c993f",
   "metadata": {},
   "source": [
    "### Learning Curves"
   ]
  },
  {
   "cell_type": "code",
   "execution_count": 93,
   "id": "183a043d-0cb3-4c57-8bef-10c69818bdb0",
   "metadata": {},
   "outputs": [],
   "source": [
    "from sklearn.metrics import mean_squared_error, r2_score, mean_absolute_error"
   ]
  },
  {
   "cell_type": "code",
   "execution_count": 94,
   "id": "d330af48-eb9d-4bd5-802e-145f683ad320",
   "metadata": {},
   "outputs": [],
   "source": [
    "def print_info(mode, y_true, y_pred, print_results=True):\n",
    "    rmse = np.sqrt(mean_squared_error(y_true, y_pred))\n",
    "    mae = mean_absolute_error(y_true, y_pred)\n",
    "    r2 = r2_score(y_true, y_pred)\n",
    "    if(print_results):\n",
    "        print(mode + \": RMSE: {0}, MAE: {1}, R2: {2}\".format(rmse,mae,r2))\n",
    "    return rmse, mae, r2"
   ]
  },
  {
   "cell_type": "code",
   "execution_count": 95,
   "id": "428bc77f-505a-4d04-a299-7e3550b603e0",
   "metadata": {},
   "outputs": [
    {
     "name": "stdout",
     "output_type": "stream",
     "text": [
      "test: RMSE: 82923.25101628163, MAE: 70686.39548349378, R2: -2.3967117666227544\n"
     ]
    },
    {
     "data": {
      "text/plain": [
       "(82923.25101628163, 70686.39548349378, -2.3967117666227544)"
      ]
     },
     "execution_count": 95,
     "metadata": {},
     "output_type": "execute_result"
    }
   ],
   "source": [
    "print_info('test', y_test[:3], y_pred[:3], print_results=True)"
   ]
  },
  {
   "cell_type": "code",
   "execution_count": 96,
   "id": "eba6b873-5a0a-4469-b3a1-3dbd9555be31",
   "metadata": {},
   "outputs": [],
   "source": [
    "def plot_learning_curves(X_train, X_val, y_train, y_val, lr_W, lr=0.001):\n",
    "    train_rmse_errors, train_mae_errors, train_r2_errors = [], [], []\n",
    "    val_rmse_errors, val_mae_errors, val_r2_errors = [], [], []\n",
    "    for m in range(1, len(X_train) + 1, 15):\n",
    "        lr_W, cost = fit(X_train[:m], y_train[:m], lr)\n",
    "        y_train_predict = predict(X_train[:m], lr_W)\n",
    "        y_val_predict = predict(X_val, lr_W)\n",
    "        \n",
    "        train_rmse, train_mae, train_r2 = print_info(\"train\", y_train[:m], y_train_predict, print_results=False)\n",
    "        train_rmse_errors.append(train_rmse)\n",
    "        train_mae_errors.append(train_mae)\n",
    "        train_r2_errors.append(train_r2)\n",
    "        \n",
    "        val_rmse, val_mae, val_r2 = print_info(\"test\", y_val, y_val_predict, print_results=False)\n",
    "        val_rmse_errors.append(val_rmse)\n",
    "        val_mae_errors.append(val_mae)\n",
    "        val_r2_errors.append(val_r2)\n",
    "    result = {'train_rmse_errors':train_rmse_errors, \n",
    "           'train_mae_errors':train_mae_errors, \n",
    "           'train_r2_errors':train_r2_errors, \n",
    "           'val_rmse_errors':val_rmse_errors, \n",
    "           'val_mae_errors':val_mae_errors, \n",
    "           'val_r2_errors':val_r2_errors}\n",
    "    return result "
   ]
  },
  {
   "cell_type": "code",
   "execution_count": 97,
   "id": "fcb08a4c-4d97-4486-9633-a7b58beb60d2",
   "metadata": {},
   "outputs": [],
   "source": [
    "def plot_lc_figures(error1, error2, metric=''):\n",
    "    plt.plot(error1, \"r-+\", linewidth=2, label=\"train\")\n",
    "    plt.plot(error2, \"b-\", linewidth=3, label=\"val\")\n",
    "    plt.legend(loc=\"upper right\", fontsize=14)   # not shown in the book\n",
    "    plt.xlabel(\"Training set size\", fontsize=14) # not shown\n",
    "    plt.ylabel(str(metric).upper(), fontsize=14)              # not shown"
   ]
  },
  {
   "cell_type": "code",
   "execution_count": 98,
   "id": "58b15eed-bb69-4261-9622-f4e1bf131444",
   "metadata": {},
   "outputs": [
    {
     "name": "stderr",
     "output_type": "stream",
     "text": [
      "/opt/homebrew/lib/python3.9/site-packages/sklearn/metrics/_regression.py:918: UndefinedMetricWarning: R^2 score is not well-defined with less than two samples.\n",
      "  warnings.warn(msg, UndefinedMetricWarning)\n"
     ]
    }
   ],
   "source": [
    "errors  = plot_learning_curves(X_train, X_test, y_train, y_test, lr_W, lr=lr_learning_rate)"
   ]
  },
  {
   "cell_type": "code",
   "execution_count": 99,
   "id": "2b2eb7a7-de17-4163-8b4e-b6f3477460c4",
   "metadata": {},
   "outputs": [
    {
     "data": {
      "image/png": "[encoded data removed]",
      "text/plain": [
       "<Figure size 640x480 with 1 Axes>"
      ]
     },
     "metadata": {},
     "output_type": "display_data"
    }
   ],
   "source": [
    "plot_lc_figures(errors['train_rmse_errors'], errors['val_rmse_errors'], metric='RMSE')"
   ]
  },
  {
   "cell_type": "code",
   "execution_count": null,
   "id": "da1548cd-5dd0-47ba-a81b-c91aa85accef",
   "metadata": {},
   "outputs": [],
   "source": []
  },
  {
   "cell_type": "markdown",
   "id": "e898ba98-85c9-4bde-8887-fde503ef5104",
   "metadata": {},
   "source": [
    "### Impact of learning rate"
   ]
  },
  {
   "cell_type": "code",
   "execution_count": 100,
   "id": "28982522-93e6-4290-951e-6621e079c3af",
   "metadata": {},
   "outputs": [
    {
     "name": "stdout",
     "output_type": "stream",
     "text": [
      "0.1\n",
      "0.2\n",
      "0.3\n",
      "0.4\n",
      "0.5\n",
      "0.6\n",
      "0.7\n",
      "0.8\n",
      "0.9\n"
     ]
    }
   ],
   "source": [
    "weights_list=[]\n",
    "cost_list=[]\n",
    "for lr in range(1,10,1):\n",
    "    print((lr)/10)\n",
    "    learning_rate=lr/10\n",
    "    weights, cost = fit(X_train, y_train, learning_rate, num_iterations=100)\n",
    "    weights_list.append(weights)\n",
    "    cost_list.append(np.mean(cost))"
   ]
  },
  {
   "cell_type": "code",
   "execution_count": 101,
   "id": "a6d49f0a-e949-43b4-adae-0ef58087f3d0",
   "metadata": {},
   "outputs": [
    {
     "data": {
      "text/plain": [
       "array([0. , 0.1, 0.2, 0.3, 0.4, 0.5, 0.6, 0.7, 0.8])"
      ]
     },
     "execution_count": 101,
     "metadata": {},
     "output_type": "execute_result"
    }
   ],
   "source": [
    "np.arange(0,len(cost_list),1)/10"
   ]
  },
  {
   "cell_type": "code",
   "execution_count": null,
   "id": "79a43474-8c1a-4d79-8693-841bbef8f486",
   "metadata": {},
   "outputs": [],
   "source": []
  },
  {
   "cell_type": "code",
   "execution_count": 102,
   "id": "620983db-6245-4ef3-8ed1-19d964f10d32",
   "metadata": {},
   "outputs": [
    {
     "data": {
      "image/png": "[encoded data removed]",
      "text/plain": [
       "<Figure size 640x480 with 1 Axes>"
      ]
     },
     "metadata": {},
     "output_type": "display_data"
    }
   ],
   "source": [
    "plt.scatter(np.arange(0,len(cost_list),1)/10, cost_list, color = 'blue') \n",
    "plt.title('Cost vs Learning Rate') \n",
    "plt.xlabel('Learning Rate') \n",
    "plt.ylabel('Cost') \n",
    "plt.show() "
   ]
  },
  {
   "cell_type": "markdown",
   "id": "ace3bc5a-f84a-4037-9386-8023ea7858f8",
   "metadata": {},
   "source": [
    "### Impact of number of iterations"
   ]
  },
  {
   "cell_type": "code",
   "execution_count": null,
   "id": "5005d006-95c6-4062-a488-83aa8e06dfa6",
   "metadata": {},
   "outputs": [],
   "source": []
  },
  {
   "cell_type": "code",
   "execution_count": 103,
   "id": "5bb8e226-0b50-41f3-b662-46800bb843f4",
   "metadata": {},
   "outputs": [
    {
     "name": "stderr",
     "output_type": "stream",
     "text": [
      "/opt/homebrew/lib/python3.9/site-packages/numpy/core/fromnumeric.py:3432: RuntimeWarning: Mean of empty slice.\n",
      "  return _methods._mean(a, axis=axis, dtype=dtype,\n",
      "/opt/homebrew/lib/python3.9/site-packages/numpy/core/_methods.py:190: RuntimeWarning: invalid value encountered in double_scalars\n",
      "  ret = ret.dtype.type(ret / rcount)\n"
     ]
    }
   ],
   "source": [
    "weights_list=[]\n",
    "cost_list=[]\n",
    "learning_rate=0.5\n",
    "for num_iterations in range(0,710,10):\n",
    "    weights, cost = fit(X_train, y_train, learning_rate, num_iterations=num_iterations)\n",
    "    weights_list.append(weights)\n",
    "    cost_list.append(np.mean(cost))"
   ]
  },
  {
   "cell_type": "code",
   "execution_count": 104,
   "id": "d189b2c4-2d6a-4513-98cc-a11a77b44827",
   "metadata": {},
   "outputs": [
    {
     "data": {
      "text/plain": [
       "array([  0,  10,  20,  30,  40,  50,  60,  70,  80,  90, 100, 110, 120,\n",
       "       130, 140, 150, 160, 170, 180, 190, 200, 210, 220, 230, 240, 250,\n",
       "       260, 270, 280, 290, 300, 310, 320, 330, 340, 350, 360, 370, 380,\n",
       "       390, 400, 410, 420, 430, 440, 450, 460, 470, 480, 490, 500, 510,\n",
       "       520, 530, 540, 550, 560, 570, 580, 590, 600, 610, 620, 630, 640,\n",
       "       650, 660, 670, 680, 690, 700])"
      ]
     },
     "execution_count": 104,
     "metadata": {},
     "output_type": "execute_result"
    }
   ],
   "source": [
    "np.arange(0,len(cost_list),1)*10"
   ]
  },
  {
   "cell_type": "code",
   "execution_count": 105,
   "id": "521c3de4-75ea-4582-a03e-1b56cb187064",
   "metadata": {},
   "outputs": [
    {
     "data": {
      "image/png": "[encoded data removed]",
      "text/plain": [
       "<Figure size 640x480 with 1 Axes>"
      ]
     },
     "metadata": {},
     "output_type": "display_data"
    }
   ],
   "source": [
    "plt.scatter(np.arange(0,len(cost_list),1)*10, cost_list, color = 'blue') \n",
    "plt.title('Cost vs Training Iteration') \n",
    "plt.xlabel('Number of Iterations') \n",
    "plt.ylabel('Cost') \n",
    "plt.show() "
   ]
  },
  {
   "cell_type": "code",
   "execution_count": null,
   "id": "04033947-63e8-4a5f-9cda-9ae5088e6ec4",
   "metadata": {},
   "outputs": [],
   "source": []
  },
  {
   "cell_type": "code",
   "execution_count": null,
   "id": "130ef331-f2e3-45db-b2e2-8f6f9b8a1558",
   "metadata": {},
   "outputs": [],
   "source": []
  },
  {
   "cell_type": "code",
   "execution_count": null,
   "id": "12ec8d3e-6d87-44e4-9051-89e4d003a237",
   "metadata": {},
   "outputs": [],
   "source": []
  }
 ],
 "metadata": {
  "kernelspec": {
   "display_name": "Python 3 (ipykernel)",
   "language": "python",
   "name": "python3"
  },
  "language_info": {
   "codemirror_mode": {
    "name": "ipython",
    "version": 3
   },
   "file_extension": ".py",
   "mimetype": "text/x-python",
   "name": "python",
   "nbconvert_exporter": "python",
   "pygments_lexer": "ipython3",
   "version": "3.9.10"
  }
 },
 "nbformat": 4,
 "nbformat_minor": 5
}
